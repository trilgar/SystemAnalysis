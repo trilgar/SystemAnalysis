{
  "nbformat": 4,
  "nbformat_minor": 0,
  "metadata": {
    "colab": {
      "name": "SA lab1.ipynb",
      "provenance": [],
      "collapsed_sections": [
        "pambPEZPx7fs"
      ],
      "authorship_tag": "ABX9TyPV+qBvy8vYHvhMPj26RrPY",
      "include_colab_link": true
    },
    "kernelspec": {
      "name": "python3",
      "display_name": "Python 3"
    },
    "language_info": {
      "name": "python"
    }
  },
  "cells": [
    {
      "cell_type": "markdown",
      "metadata": {
        "id": "view-in-github",
        "colab_type": "text"
      },
      "source": [
        "<a href=\"https://colab.research.google.com/github/trilgar/SystemAnalysis/blob/main/SA_lab1.ipynb\" target=\"_parent\"><img src=\"https://colab.research.google.com/assets/colab-badge.svg\" alt=\"Open In Colab\"/></a>"
      ]
    },
    {
      "cell_type": "code",
      "metadata": {
        "id": "mqin6kfXUNeh"
      },
      "source": [
        "import matplotlib.pyplot as plt\n",
        "import numpy as np\n",
        "import pandas as pd\n",
        "import math"
      ],
      "execution_count": null,
      "outputs": []
    },
    {
      "cell_type": "markdown",
      "metadata": {
        "id": "L0_MdrJ-Prga"
      },
      "source": [
        "# Задача 1 (Варіант 11)"
      ]
    },
    {
      "cell_type": "markdown",
      "metadata": {
        "id": "JTgCxlHCXNf6"
      },
      "source": [
        "## Визначення умов задачі:"
      ]
    },
    {
      "cell_type": "markdown",
      "metadata": {
        "id": "POxFvjuMW8_o"
      },
      "source": [
        "1. Визначення даних:   \n",
        "При заданих цільових функціях $f1(x)$, $f2(x)$ і порогових обмеженнях $f1*$, $f2*$ визначити область Парето на заданому інтервалі [x1, x2] при виконанні умов $f1(x)>=f1*$ , $f2(x)>=f2*$  Звузити область Парето, використовуючи прийоми технічних обмежень.\n",
        "При вирішенні рівнянь все обчислення провести з точністю до 0.0001, при звуженні інтервалів значення кордонів округлити до 0.001 і крок сітки брати рівним 0.001.  \n",
        "![image.png](data:image/png;base64,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)\n"
      ]
    },
    {
      "cell_type": "code",
      "metadata": {
        "id": "lD6K0DWrUcnn"
      },
      "source": [
        "f1 = lambda x: 23 - 8*x +5*x**2\n",
        "f2 = lambda x: 103 + 0.7*x + 1.3*x**2\n",
        "f1_lim = 48\n",
        "f2_lim = 96\n",
        "x1 = 1\n",
        "x2 = 4"
      ],
      "execution_count": null,
      "outputs": []
    },
    {
      "cell_type": "code",
      "metadata": {
        "colab": {
          "base_uri": "https://localhost:8080/",
          "height": 424
        },
        "id": "RWr8DozCVEEf",
        "outputId": "300d16d2-377c-4715-85f5-c63ecc4fb27a"
      },
      "source": [
        "x = np.arange(1, 4.0001, 0.001)\n",
        "F1 = np.array([f1(c) for c in x])\n",
        "F2 = np.array([f2(c) for c in x])\n",
        "y1 = np.array([f1(c)/f1_lim for c in x])\n",
        "y2 = np.array([f2(c)/f2_lim for c in x])\n",
        "table = pd.DataFrame({\"f1/f1*\" : y1,\"f2/f2*\": y2}, index=x)\n",
        "table = np.round(table, decimals=4)\n",
        "table"
      ],
      "execution_count": null,
      "outputs": [
        {
          "output_type": "execute_result",
          "data": {
            "text/html": [
              "<div>\n",
              "<style scoped>\n",
              "    .dataframe tbody tr th:only-of-type {\n",
              "        vertical-align: middle;\n",
              "    }\n",
              "\n",
              "    .dataframe tbody tr th {\n",
              "        vertical-align: top;\n",
              "    }\n",
              "\n",
              "    .dataframe thead th {\n",
              "        text-align: right;\n",
              "    }\n",
              "</style>\n",
              "<table border=\"1\" class=\"dataframe\">\n",
              "  <thead>\n",
              "    <tr style=\"text-align: right;\">\n",
              "      <th></th>\n",
              "      <th>f1/f1*</th>\n",
              "      <th>f2/f2*</th>\n",
              "    </tr>\n",
              "  </thead>\n",
              "  <tbody>\n",
              "    <tr>\n",
              "      <th>1.000</th>\n",
              "      <td>0.4167</td>\n",
              "      <td>1.0938</td>\n",
              "    </tr>\n",
              "    <tr>\n",
              "      <th>1.001</th>\n",
              "      <td>0.4167</td>\n",
              "      <td>1.0938</td>\n",
              "    </tr>\n",
              "    <tr>\n",
              "      <th>1.002</th>\n",
              "      <td>0.4168</td>\n",
              "      <td>1.0938</td>\n",
              "    </tr>\n",
              "    <tr>\n",
              "      <th>1.003</th>\n",
              "      <td>0.4168</td>\n",
              "      <td>1.0939</td>\n",
              "    </tr>\n",
              "    <tr>\n",
              "      <th>1.004</th>\n",
              "      <td>0.4168</td>\n",
              "      <td>1.0939</td>\n",
              "    </tr>\n",
              "    <tr>\n",
              "      <th>...</th>\n",
              "      <td>...</td>\n",
              "      <td>...</td>\n",
              "    </tr>\n",
              "    <tr>\n",
              "      <th>3.996</th>\n",
              "      <td>1.4765</td>\n",
              "      <td>1.3183</td>\n",
              "    </tr>\n",
              "    <tr>\n",
              "      <th>3.997</th>\n",
              "      <td>1.4772</td>\n",
              "      <td>1.3184</td>\n",
              "    </tr>\n",
              "    <tr>\n",
              "      <th>3.998</th>\n",
              "      <td>1.4778</td>\n",
              "      <td>1.3185</td>\n",
              "    </tr>\n",
              "    <tr>\n",
              "      <th>3.999</th>\n",
              "      <td>1.4785</td>\n",
              "      <td>1.3186</td>\n",
              "    </tr>\n",
              "    <tr>\n",
              "      <th>4.000</th>\n",
              "      <td>1.4792</td>\n",
              "      <td>1.3187</td>\n",
              "    </tr>\n",
              "  </tbody>\n",
              "</table>\n",
              "<p>3001 rows × 2 columns</p>\n",
              "</div>"
            ],
            "text/plain": [
              "       f1/f1*  f2/f2*\n",
              "1.000  0.4167  1.0938\n",
              "1.001  0.4167  1.0938\n",
              "1.002  0.4168  1.0938\n",
              "1.003  0.4168  1.0939\n",
              "1.004  0.4168  1.0939\n",
              "...       ...     ...\n",
              "3.996  1.4765  1.3183\n",
              "3.997  1.4772  1.3184\n",
              "3.998  1.4778  1.3185\n",
              "3.999  1.4785  1.3186\n",
              "4.000  1.4792  1.3187\n",
              "\n",
              "[3001 rows x 2 columns]"
            ]
          },
          "metadata": {},
          "execution_count": 100
        }
      ]
    },
    {
      "cell_type": "markdown",
      "metadata": {
        "id": "Ozqxa2k5FQip"
      },
      "source": [
        "## Знаходження області Парето та побудова графіків: \n"
      ]
    },
    {
      "cell_type": "markdown",
      "metadata": {
        "id": "5FZIWDL6PSG5"
      },
      "source": [
        "1. Розв'язання нерівностей:  \n",
        "Для того, щоб визначити область Парето розв'яжемо нерівності $f1(x)>=f1* , f2(x) >=f2*$ :  \n",
        "1) $23 - 8x +5x^2 >= 48$  \n",
        "2) $103 +0.7x -1.3x^2>=96$  \n",
        "Для першої нерівності рішення $ x є (-\\infty ; \\frac{(4 -\\sqrt{141})}{5}] U [\\frac{(4 +\\sqrt{141})}{5} ; +\\infty) $  \n",
        "Друга нерівність виконується $\\forall x є R$  \n",
        "Отже, враховуючи граничні значення потенційна область Парето має вигляд $[\\frac{(4 +\\sqrt{141})}{5};4]$ "
      ]
    },
    {
      "cell_type": "markdown",
      "metadata": {
        "id": "tsvnOtCSK3I4"
      },
      "source": [
        "2. Намалюємо графік: "
      ]
    },
    {
      "cell_type": "code",
      "metadata": {
        "colab": {
          "base_uri": "https://localhost:8080/",
          "height": 295
        },
        "id": "fVVfWo66W40a",
        "outputId": "cbd3c7c9-2040-492e-c0c3-6817e65171d4"
      },
      "source": [
        "plt.title(\"Графік f1(синій), f2(червоний)  та область де виконуються нерівності(заштриховано сірим)\")\n",
        "plt.xlabel(\"x\")\n",
        "plt.ylabel(\"f(x)\")\n",
        "plt.plot(x, F1, color = \"blue\")\n",
        "plt.plot(x, F2, color = \"red\")\n",
        "left_limit = np.round((4+math.sqrt(141))/5, decimals= 3)\n",
        "right_limit = 4\n",
        "plt.axvspan(left_limit, right_limit, color = \"gray\")\n",
        "plt.show()"
      ],
      "execution_count": null,
      "outputs": [
        {
          "output_type": "display_data",
          "data": {
            "image/png": "[encoded data removed]",
            "text/plain": [
              "<Figure size 432x288 with 1 Axes>"
            ]
          },
          "metadata": {
            "needs_background": "light"
          }
        }
      ]
    },
    {
      "cell_type": "markdown",
      "metadata": {
        "id": "RSfbzrdZ-097"
      },
      "source": [
        "Уже зараз очевидно, що область Парето звузити не вдасться, оскільки графіки монотонно зростаюсь на в всій області визначення, тобто по факту область парето взагалі не визначена на цьому проміжку. Але для демонстрації методу технічних обмежень ми все одно продовжимо намагатися звузити область (чого в нас очевидно не вийде)."
      ]
    },
    {
      "cell_type": "markdown",
      "metadata": {
        "id": "JvipTBDXsupa"
      },
      "source": [
        "## Звуження за допомогою методу технічних обмежень:\n"
      ]
    },
    {
      "cell_type": "markdown",
      "metadata": {
        "id": "WfEHD6qlPXfe"
      },
      "source": [
        "1. Формуємо таблицю:"
      ]
    },
    {
      "cell_type": "code",
      "metadata": {
        "colab": {
          "base_uri": "https://localhost:8080/",
          "height": 424
        },
        "id": "8k4T3OsAstWQ",
        "outputId": "8ba00ea6-783d-40e2-b37d-5f5038e38be7"
      },
      "source": [
        "table[\"max(fi/fi*)\"] = np.maximum(y1,y2)\n",
        "table[\"min(fi/fi*)\"] = np.minimum(y1,y2)\n",
        "table = np.round(table, decimals=4)\n",
        "table"
      ],
      "execution_count": null,
      "outputs": [
        {
          "output_type": "execute_result",
          "data": {
            "text/html": [
              "<div>\n",
              "<style scoped>\n",
              "    .dataframe tbody tr th:only-of-type {\n",
              "        vertical-align: middle;\n",
              "    }\n",
              "\n",
              "    .dataframe tbody tr th {\n",
              "        vertical-align: top;\n",
              "    }\n",
              "\n",
              "    .dataframe thead th {\n",
              "        text-align: right;\n",
              "    }\n",
              "</style>\n",
              "<table border=\"1\" class=\"dataframe\">\n",
              "  <thead>\n",
              "    <tr style=\"text-align: right;\">\n",
              "      <th></th>\n",
              "      <th>f1/f1*</th>\n",
              "      <th>f2/f2*</th>\n",
              "      <th>max(fi/fi*)</th>\n",
              "      <th>min(fi/fi*)</th>\n",
              "    </tr>\n",
              "  </thead>\n",
              "  <tbody>\n",
              "    <tr>\n",
              "      <th>1.000</th>\n",
              "      <td>0.4167</td>\n",
              "      <td>1.0938</td>\n",
              "      <td>1.0938</td>\n",
              "      <td>0.4167</td>\n",
              "    </tr>\n",
              "    <tr>\n",
              "      <th>1.001</th>\n",
              "      <td>0.4167</td>\n",
              "      <td>1.0938</td>\n",
              "      <td>1.0938</td>\n",
              "      <td>0.4167</td>\n",
              "    </tr>\n",
              "    <tr>\n",
              "      <th>1.002</th>\n",
              "      <td>0.4168</td>\n",
              "      <td>1.0938</td>\n",
              "      <td>1.0938</td>\n",
              "      <td>0.4168</td>\n",
              "    </tr>\n",
              "    <tr>\n",
              "      <th>1.003</th>\n",
              "      <td>0.4168</td>\n",
              "      <td>1.0939</td>\n",
              "      <td>1.0939</td>\n",
              "      <td>0.4168</td>\n",
              "    </tr>\n",
              "    <tr>\n",
              "      <th>1.004</th>\n",
              "      <td>0.4168</td>\n",
              "      <td>1.0939</td>\n",
              "      <td>1.0939</td>\n",
              "      <td>0.4168</td>\n",
              "    </tr>\n",
              "    <tr>\n",
              "      <th>...</th>\n",
              "      <td>...</td>\n",
              "      <td>...</td>\n",
              "      <td>...</td>\n",
              "      <td>...</td>\n",
              "    </tr>\n",
              "    <tr>\n",
              "      <th>3.996</th>\n",
              "      <td>1.4765</td>\n",
              "      <td>1.3183</td>\n",
              "      <td>1.4765</td>\n",
              "      <td>1.3183</td>\n",
              "    </tr>\n",
              "    <tr>\n",
              "      <th>3.997</th>\n",
              "      <td>1.4772</td>\n",
              "      <td>1.3184</td>\n",
              "      <td>1.4772</td>\n",
              "      <td>1.3184</td>\n",
              "    </tr>\n",
              "    <tr>\n",
              "      <th>3.998</th>\n",
              "      <td>1.4778</td>\n",
              "      <td>1.3185</td>\n",
              "      <td>1.4778</td>\n",
              "      <td>1.3185</td>\n",
              "    </tr>\n",
              "    <tr>\n",
              "      <th>3.999</th>\n",
              "      <td>1.4785</td>\n",
              "      <td>1.3186</td>\n",
              "      <td>1.4785</td>\n",
              "      <td>1.3186</td>\n",
              "    </tr>\n",
              "    <tr>\n",
              "      <th>4.000</th>\n",
              "      <td>1.4792</td>\n",
              "      <td>1.3187</td>\n",
              "      <td>1.4792</td>\n",
              "      <td>1.3187</td>\n",
              "    </tr>\n",
              "  </tbody>\n",
              "</table>\n",
              "<p>3001 rows × 4 columns</p>\n",
              "</div>"
            ],
            "text/plain": [
              "       f1/f1*  f2/f2*  max(fi/fi*)  min(fi/fi*)\n",
              "1.000  0.4167  1.0938       1.0938       0.4167\n",
              "1.001  0.4167  1.0938       1.0938       0.4167\n",
              "1.002  0.4168  1.0938       1.0938       0.4168\n",
              "1.003  0.4168  1.0939       1.0939       0.4168\n",
              "1.004  0.4168  1.0939       1.0939       0.4168\n",
              "...       ...     ...          ...          ...\n",
              "3.996  1.4765  1.3183       1.4765       1.3183\n",
              "3.997  1.4772  1.3184       1.4772       1.3184\n",
              "3.998  1.4778  1.3185       1.4778       1.3185\n",
              "3.999  1.4785  1.3186       1.4785       1.3186\n",
              "4.000  1.4792  1.3187       1.4792       1.3187\n",
              "\n",
              "[3001 rows x 4 columns]"
            ]
          },
          "metadata": {},
          "execution_count": 102
        }
      ]
    },
    {
      "cell_type": "markdown",
      "metadata": {
        "id": "ZIs5orVl7sTN"
      },
      "source": [
        "2. Обчислюємо **minmax = min(min(fi/fi*))** та **maxmin = max(min(fi/fi*))**: "
      ]
    },
    {
      "cell_type": "code",
      "metadata": {
        "colab": {
          "base_uri": "https://localhost:8080/"
        },
        "id": "H3i7ZRwf86ZQ",
        "outputId": "b00dd989-41a4-44e7-a4ff-d3927ce5102f"
      },
      "source": [
        "minmax = min(table[\"max(fi/fi*)\"])\n",
        "maxmin = max(table[\"min(fi/fi*)\"])\n",
        "print(\"minmax = \", minmax)\n",
        "print(\"maxmin = \", maxmin)"
      ],
      "execution_count": null,
      "outputs": [
        {
          "output_type": "stream",
          "name": "stdout",
          "text": [
            "minmax =  1.0938\n",
            "maxmin =  1.3187\n"
          ]
        }
      ]
    },
    {
      "cell_type": "markdown",
      "metadata": {
        "id": "XclID-dfNkaK"
      },
      "source": [
        "3. Висновок:  \n",
        "Бачимо ,що за допомогою методу технічних обмежень звузити область не вдалося \n",
        "(Область Парето за методом технічних обмежень має лежати між $minmax(\\frac{fi}{fi*})$ та $maxmin(\\frac{fi}{fi*})$ . Тобто, $xє[1, 4]$)"
      ]
    },
    {
      "cell_type": "markdown",
      "metadata": {
        "id": "sL2-RI5EQEYd"
      },
      "source": [
        "# Задача 2 (Варіант 11)"
      ]
    },
    {
      "cell_type": "markdown",
      "metadata": {
        "id": "pGq5AfBr-7qq"
      },
      "source": [
        "## Визначення умов задачі"
      ]
    },
    {
      "cell_type": "markdown",
      "metadata": {
        "id": "aLl8LClK_CKq"
      },
      "source": [
        "![image.png](data:image/png;base64,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)"
      ]
    },
    {
      "cell_type": "markdown",
      "metadata": {
        "id": "cHOlMeII_PCT"
      },
      "source": [
        "![image.png](data:image/png;base64,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)"
      ]
    },
    {
      "cell_type": "markdown",
      "metadata": {
        "id": "F6l5W08mZGu0"
      },
      "source": [
        "## Знаходження гарантованого результату"
      ]
    },
    {
      "cell_type": "code",
      "metadata": {
        "id": "2XNRPC8pW-NW"
      },
      "source": [
        "f1 = lambda x1,x2 : 8* x1**2 + 8*x1 + 6*x2 + 5 \n",
        "f2 = lambda x1,x2 : 13* x1**2 - 7* x2 + 14\n",
        "x1_min = -1\n",
        "x1_max = 1\n",
        "x2_min = -2\n",
        "x2_max = 2\n",
        "step1 = 0.01\n",
        "step2 = 0.02 "
      ],
      "execution_count": null,
      "outputs": []
    },
    {
      "cell_type": "markdown",
      "metadata": {
        "id": "7ZQWyyE9q_O2"
      },
      "source": [
        "### Табличний метод"
      ]
    },
    {
      "cell_type": "code",
      "metadata": {
        "colab": {
          "base_uri": "https://localhost:8080/",
          "height": 424
        },
        "id": "w3yAa6hZXpcQ",
        "outputId": "effe8146-0c18-49a6-8251-103373c199ac"
      },
      "source": [
        "x1 = np.arange(x1_min, x1_max + 0.00001, step1)\n",
        "x2 = np.arange(x2_min, x2_max + 0.00001, step2)\n",
        "x = []\n",
        "for x_1 in x1:\n",
        "  for x_2 in x2: \n",
        "    x.append([x_1, x_2])\n",
        "x = np.array(x)\n",
        "F1 = np.array([f1(x,y) for x,y in x])\n",
        "F2 = np.array([f2(x,y) for x,y in x])\n",
        "table = pd.DataFrame({\"x1\": x.T[0], \"x2\":x.T[1], \"f1(x1,x2)\": F1, \"f2(x1,x2)\": F2})\n",
        "table"
      ],
      "execution_count": null,
      "outputs": [
        {
          "output_type": "execute_result",
          "data": {
            "text/html": [
              "<div>\n",
              "<style scoped>\n",
              "    .dataframe tbody tr th:only-of-type {\n",
              "        vertical-align: middle;\n",
              "    }\n",
              "\n",
              "    .dataframe tbody tr th {\n",
              "        vertical-align: top;\n",
              "    }\n",
              "\n",
              "    .dataframe thead th {\n",
              "        text-align: right;\n",
              "    }\n",
              "</style>\n",
              "<table border=\"1\" class=\"dataframe\">\n",
              "  <thead>\n",
              "    <tr style=\"text-align: right;\">\n",
              "      <th></th>\n",
              "      <th>x1</th>\n",
              "      <th>x2</th>\n",
              "      <th>f1(x1,x2)</th>\n",
              "      <th>f2(x1,x2)</th>\n",
              "    </tr>\n",
              "  </thead>\n",
              "  <tbody>\n",
              "    <tr>\n",
              "      <th>0</th>\n",
              "      <td>-1.0</td>\n",
              "      <td>-2.00</td>\n",
              "      <td>-7.00</td>\n",
              "      <td>41.00</td>\n",
              "    </tr>\n",
              "    <tr>\n",
              "      <th>1</th>\n",
              "      <td>-1.0</td>\n",
              "      <td>-1.98</td>\n",
              "      <td>-6.88</td>\n",
              "      <td>40.86</td>\n",
              "    </tr>\n",
              "    <tr>\n",
              "      <th>2</th>\n",
              "      <td>-1.0</td>\n",
              "      <td>-1.96</td>\n",
              "      <td>-6.76</td>\n",
              "      <td>40.72</td>\n",
              "    </tr>\n",
              "    <tr>\n",
              "      <th>3</th>\n",
              "      <td>-1.0</td>\n",
              "      <td>-1.94</td>\n",
              "      <td>-6.64</td>\n",
              "      <td>40.58</td>\n",
              "    </tr>\n",
              "    <tr>\n",
              "      <th>4</th>\n",
              "      <td>-1.0</td>\n",
              "      <td>-1.92</td>\n",
              "      <td>-6.52</td>\n",
              "      <td>40.44</td>\n",
              "    </tr>\n",
              "    <tr>\n",
              "      <th>...</th>\n",
              "      <td>...</td>\n",
              "      <td>...</td>\n",
              "      <td>...</td>\n",
              "      <td>...</td>\n",
              "    </tr>\n",
              "    <tr>\n",
              "      <th>40396</th>\n",
              "      <td>1.0</td>\n",
              "      <td>1.92</td>\n",
              "      <td>32.52</td>\n",
              "      <td>13.56</td>\n",
              "    </tr>\n",
              "    <tr>\n",
              "      <th>40397</th>\n",
              "      <td>1.0</td>\n",
              "      <td>1.94</td>\n",
              "      <td>32.64</td>\n",
              "      <td>13.42</td>\n",
              "    </tr>\n",
              "    <tr>\n",
              "      <th>40398</th>\n",
              "      <td>1.0</td>\n",
              "      <td>1.96</td>\n",
              "      <td>32.76</td>\n",
              "      <td>13.28</td>\n",
              "    </tr>\n",
              "    <tr>\n",
              "      <th>40399</th>\n",
              "      <td>1.0</td>\n",
              "      <td>1.98</td>\n",
              "      <td>32.88</td>\n",
              "      <td>13.14</td>\n",
              "    </tr>\n",
              "    <tr>\n",
              "      <th>40400</th>\n",
              "      <td>1.0</td>\n",
              "      <td>2.00</td>\n",
              "      <td>33.00</td>\n",
              "      <td>13.00</td>\n",
              "    </tr>\n",
              "  </tbody>\n",
              "</table>\n",
              "<p>40401 rows × 4 columns</p>\n",
              "</div>"
            ],
            "text/plain": [
              "        x1    x2  f1(x1,x2)  f2(x1,x2)\n",
              "0     -1.0 -2.00      -7.00      41.00\n",
              "1     -1.0 -1.98      -6.88      40.86\n",
              "2     -1.0 -1.96      -6.76      40.72\n",
              "3     -1.0 -1.94      -6.64      40.58\n",
              "4     -1.0 -1.92      -6.52      40.44\n",
              "...    ...   ...        ...        ...\n",
              "40396  1.0  1.92      32.52      13.56\n",
              "40397  1.0  1.94      32.64      13.42\n",
              "40398  1.0  1.96      32.76      13.28\n",
              "40399  1.0  1.98      32.88      13.14\n",
              "40400  1.0  2.00      33.00      13.00\n",
              "\n",
              "[40401 rows x 4 columns]"
            ]
          },
          "metadata": {},
          "execution_count": 105
        }
      ]
    },
    {
      "cell_type": "code",
      "metadata": {
        "id": "XXBGz_IEk1p1"
      },
      "source": [
        "minf_x2 = table.groupby(['x1']).min()\n",
        "minf_x1 = table.groupby(['x2']).min()\n",
        "minf_x2 = minf_x2.drop('x2', 1)\n",
        "minf_x1 = minf_x1.drop('x1', 1)\n",
        "minf_x2 = np.round(minf_x2, decimals=4)\n",
        "minf_x1 = np.round(minf_x1, decimals=4)"
      ],
      "execution_count": null,
      "outputs": []
    },
    {
      "cell_type": "markdown",
      "metadata": {
        "id": "jQKNMpDZof0M"
      },
      "source": [
        "Мінімум по аргументу $x_1$ (нас цікавить тільки колонка f2): "
      ]
    },
    {
      "cell_type": "code",
      "metadata": {
        "colab": {
          "base_uri": "https://localhost:8080/",
          "height": 455
        },
        "id": "SGzEwqzhn687",
        "outputId": "d0ae46f3-20fa-41bb-d6a4-4bd884fd5b7e"
      },
      "source": [
        "minf_x1"
      ],
      "execution_count": null,
      "outputs": [
        {
          "output_type": "execute_result",
          "data": {
            "text/html": [
              "<div>\n",
              "<style scoped>\n",
              "    .dataframe tbody tr th:only-of-type {\n",
              "        vertical-align: middle;\n",
              "    }\n",
              "\n",
              "    .dataframe tbody tr th {\n",
              "        vertical-align: top;\n",
              "    }\n",
              "\n",
              "    .dataframe thead th {\n",
              "        text-align: right;\n",
              "    }\n",
              "</style>\n",
              "<table border=\"1\" class=\"dataframe\">\n",
              "  <thead>\n",
              "    <tr style=\"text-align: right;\">\n",
              "      <th></th>\n",
              "      <th>f1(x1,x2)</th>\n",
              "      <th>f2(x1,x2)</th>\n",
              "    </tr>\n",
              "    <tr>\n",
              "      <th>x2</th>\n",
              "      <th></th>\n",
              "      <th></th>\n",
              "    </tr>\n",
              "  </thead>\n",
              "  <tbody>\n",
              "    <tr>\n",
              "      <th>-2.00</th>\n",
              "      <td>-9.00</td>\n",
              "      <td>28.00</td>\n",
              "    </tr>\n",
              "    <tr>\n",
              "      <th>-1.98</th>\n",
              "      <td>-8.88</td>\n",
              "      <td>27.86</td>\n",
              "    </tr>\n",
              "    <tr>\n",
              "      <th>-1.96</th>\n",
              "      <td>-8.76</td>\n",
              "      <td>27.72</td>\n",
              "    </tr>\n",
              "    <tr>\n",
              "      <th>-1.94</th>\n",
              "      <td>-8.64</td>\n",
              "      <td>27.58</td>\n",
              "    </tr>\n",
              "    <tr>\n",
              "      <th>-1.92</th>\n",
              "      <td>-8.52</td>\n",
              "      <td>27.44</td>\n",
              "    </tr>\n",
              "    <tr>\n",
              "      <th>...</th>\n",
              "      <td>...</td>\n",
              "      <td>...</td>\n",
              "    </tr>\n",
              "    <tr>\n",
              "      <th>1.92</th>\n",
              "      <td>14.52</td>\n",
              "      <td>0.56</td>\n",
              "    </tr>\n",
              "    <tr>\n",
              "      <th>1.94</th>\n",
              "      <td>14.64</td>\n",
              "      <td>0.42</td>\n",
              "    </tr>\n",
              "    <tr>\n",
              "      <th>1.96</th>\n",
              "      <td>14.76</td>\n",
              "      <td>0.28</td>\n",
              "    </tr>\n",
              "    <tr>\n",
              "      <th>1.98</th>\n",
              "      <td>14.88</td>\n",
              "      <td>0.14</td>\n",
              "    </tr>\n",
              "    <tr>\n",
              "      <th>2.00</th>\n",
              "      <td>15.00</td>\n",
              "      <td>-0.00</td>\n",
              "    </tr>\n",
              "  </tbody>\n",
              "</table>\n",
              "<p>201 rows × 2 columns</p>\n",
              "</div>"
            ],
            "text/plain": [
              "       f1(x1,x2)  f2(x1,x2)\n",
              "x2                         \n",
              "-2.00      -9.00      28.00\n",
              "-1.98      -8.88      27.86\n",
              "-1.96      -8.76      27.72\n",
              "-1.94      -8.64      27.58\n",
              "-1.92      -8.52      27.44\n",
              "...          ...        ...\n",
              " 1.92      14.52       0.56\n",
              " 1.94      14.64       0.42\n",
              " 1.96      14.76       0.28\n",
              " 1.98      14.88       0.14\n",
              " 2.00      15.00      -0.00\n",
              "\n",
              "[201 rows x 2 columns]"
            ]
          },
          "metadata": {},
          "execution_count": 107
        }
      ]
    },
    {
      "cell_type": "markdown",
      "metadata": {
        "id": "Yb29bYm9oMOs"
      },
      "source": [
        "Мінімум по аргументу $x_2$ (нас цікавить тільки колонка f1): "
      ]
    },
    {
      "cell_type": "code",
      "metadata": {
        "colab": {
          "base_uri": "https://localhost:8080/",
          "height": 455
        },
        "id": "wrbl9O9fn6tF",
        "outputId": "7f906aae-73bd-4897-8e9c-adab6b5a3a45"
      },
      "source": [
        "minf_x2"
      ],
      "execution_count": null,
      "outputs": [
        {
          "output_type": "execute_result",
          "data": {
            "text/html": [
              "<div>\n",
              "<style scoped>\n",
              "    .dataframe tbody tr th:only-of-type {\n",
              "        vertical-align: middle;\n",
              "    }\n",
              "\n",
              "    .dataframe tbody tr th {\n",
              "        vertical-align: top;\n",
              "    }\n",
              "\n",
              "    .dataframe thead th {\n",
              "        text-align: right;\n",
              "    }\n",
              "</style>\n",
              "<table border=\"1\" class=\"dataframe\">\n",
              "  <thead>\n",
              "    <tr style=\"text-align: right;\">\n",
              "      <th></th>\n",
              "      <th>f1(x1,x2)</th>\n",
              "      <th>f2(x1,x2)</th>\n",
              "    </tr>\n",
              "    <tr>\n",
              "      <th>x1</th>\n",
              "      <th></th>\n",
              "      <th></th>\n",
              "    </tr>\n",
              "  </thead>\n",
              "  <tbody>\n",
              "    <tr>\n",
              "      <th>-1.00</th>\n",
              "      <td>-7.0000</td>\n",
              "      <td>13.0000</td>\n",
              "    </tr>\n",
              "    <tr>\n",
              "      <th>-0.99</th>\n",
              "      <td>-7.0792</td>\n",
              "      <td>12.7413</td>\n",
              "    </tr>\n",
              "    <tr>\n",
              "      <th>-0.98</th>\n",
              "      <td>-7.1568</td>\n",
              "      <td>12.4852</td>\n",
              "    </tr>\n",
              "    <tr>\n",
              "      <th>-0.97</th>\n",
              "      <td>-7.2328</td>\n",
              "      <td>12.2317</td>\n",
              "    </tr>\n",
              "    <tr>\n",
              "      <th>-0.96</th>\n",
              "      <td>-7.3072</td>\n",
              "      <td>11.9808</td>\n",
              "    </tr>\n",
              "    <tr>\n",
              "      <th>...</th>\n",
              "      <td>...</td>\n",
              "      <td>...</td>\n",
              "    </tr>\n",
              "    <tr>\n",
              "      <th>0.96</th>\n",
              "      <td>8.0528</td>\n",
              "      <td>11.9808</td>\n",
              "    </tr>\n",
              "    <tr>\n",
              "      <th>0.97</th>\n",
              "      <td>8.2872</td>\n",
              "      <td>12.2317</td>\n",
              "    </tr>\n",
              "    <tr>\n",
              "      <th>0.98</th>\n",
              "      <td>8.5232</td>\n",
              "      <td>12.4852</td>\n",
              "    </tr>\n",
              "    <tr>\n",
              "      <th>0.99</th>\n",
              "      <td>8.7608</td>\n",
              "      <td>12.7413</td>\n",
              "    </tr>\n",
              "    <tr>\n",
              "      <th>1.00</th>\n",
              "      <td>9.0000</td>\n",
              "      <td>13.0000</td>\n",
              "    </tr>\n",
              "  </tbody>\n",
              "</table>\n",
              "<p>201 rows × 2 columns</p>\n",
              "</div>"
            ],
            "text/plain": [
              "       f1(x1,x2)  f2(x1,x2)\n",
              "x1                         \n",
              "-1.00    -7.0000    13.0000\n",
              "-0.99    -7.0792    12.7413\n",
              "-0.98    -7.1568    12.4852\n",
              "-0.97    -7.2328    12.2317\n",
              "-0.96    -7.3072    11.9808\n",
              "...          ...        ...\n",
              " 0.96     8.0528    11.9808\n",
              " 0.97     8.2872    12.2317\n",
              " 0.98     8.5232    12.4852\n",
              " 0.99     8.7608    12.7413\n",
              " 1.00     9.0000    13.0000\n",
              "\n",
              "[201 rows x 2 columns]"
            ]
          },
          "metadata": {},
          "execution_count": 108
        }
      ]
    },
    {
      "cell_type": "code",
      "metadata": {
        "colab": {
          "base_uri": "https://localhost:8080/",
          "height": 424
        },
        "id": "mpHHaZhG7A3K",
        "outputId": "d5d7ccfe-90d7-441d-bf51-4dfc29ca61d9"
      },
      "source": [
        "minf1 = np.array([])\n",
        "for u in minf_x2['f1(x1,x2)']:\n",
        "  minf1 = np.concatenate((minf1, [u] * x2.size))\n",
        "minf2 = np.array([])\n",
        "for i in x1:\n",
        "  minf2 = np.concatenate((minf2, minf_x1['f2(x1,x2)']))\n",
        "table['min_x2(f1(x1,x2))'] = minf1\n",
        "table['min_x1(f2(x1,x2))'] = minf2\n",
        "table "
      ],
      "execution_count": null,
      "outputs": [
        {
          "output_type": "execute_result",
          "data": {
            "text/html": [
              "<div>\n",
              "<style scoped>\n",
              "    .dataframe tbody tr th:only-of-type {\n",
              "        vertical-align: middle;\n",
              "    }\n",
              "\n",
              "    .dataframe tbody tr th {\n",
              "        vertical-align: top;\n",
              "    }\n",
              "\n",
              "    .dataframe thead th {\n",
              "        text-align: right;\n",
              "    }\n",
              "</style>\n",
              "<table border=\"1\" class=\"dataframe\">\n",
              "  <thead>\n",
              "    <tr style=\"text-align: right;\">\n",
              "      <th></th>\n",
              "      <th>x1</th>\n",
              "      <th>x2</th>\n",
              "      <th>f1(x1,x2)</th>\n",
              "      <th>f2(x1,x2)</th>\n",
              "      <th>min_x2(f1(x1,x2))</th>\n",
              "      <th>min_x1(f2(x1,x2))</th>\n",
              "    </tr>\n",
              "  </thead>\n",
              "  <tbody>\n",
              "    <tr>\n",
              "      <th>0</th>\n",
              "      <td>-1.0</td>\n",
              "      <td>-2.00</td>\n",
              "      <td>-7.00</td>\n",
              "      <td>41.00</td>\n",
              "      <td>-7.0</td>\n",
              "      <td>28.00</td>\n",
              "    </tr>\n",
              "    <tr>\n",
              "      <th>1</th>\n",
              "      <td>-1.0</td>\n",
              "      <td>-1.98</td>\n",
              "      <td>-6.88</td>\n",
              "      <td>40.86</td>\n",
              "      <td>-7.0</td>\n",
              "      <td>27.86</td>\n",
              "    </tr>\n",
              "    <tr>\n",
              "      <th>2</th>\n",
              "      <td>-1.0</td>\n",
              "      <td>-1.96</td>\n",
              "      <td>-6.76</td>\n",
              "      <td>40.72</td>\n",
              "      <td>-7.0</td>\n",
              "      <td>27.72</td>\n",
              "    </tr>\n",
              "    <tr>\n",
              "      <th>3</th>\n",
              "      <td>-1.0</td>\n",
              "      <td>-1.94</td>\n",
              "      <td>-6.64</td>\n",
              "      <td>40.58</td>\n",
              "      <td>-7.0</td>\n",
              "      <td>27.58</td>\n",
              "    </tr>\n",
              "    <tr>\n",
              "      <th>4</th>\n",
              "      <td>-1.0</td>\n",
              "      <td>-1.92</td>\n",
              "      <td>-6.52</td>\n",
              "      <td>40.44</td>\n",
              "      <td>-7.0</td>\n",
              "      <td>27.44</td>\n",
              "    </tr>\n",
              "    <tr>\n",
              "      <th>...</th>\n",
              "      <td>...</td>\n",
              "      <td>...</td>\n",
              "      <td>...</td>\n",
              "      <td>...</td>\n",
              "      <td>...</td>\n",
              "      <td>...</td>\n",
              "    </tr>\n",
              "    <tr>\n",
              "      <th>40396</th>\n",
              "      <td>1.0</td>\n",
              "      <td>1.92</td>\n",
              "      <td>32.52</td>\n",
              "      <td>13.56</td>\n",
              "      <td>9.0</td>\n",
              "      <td>0.56</td>\n",
              "    </tr>\n",
              "    <tr>\n",
              "      <th>40397</th>\n",
              "      <td>1.0</td>\n",
              "      <td>1.94</td>\n",
              "      <td>32.64</td>\n",
              "      <td>13.42</td>\n",
              "      <td>9.0</td>\n",
              "      <td>0.42</td>\n",
              "    </tr>\n",
              "    <tr>\n",
              "      <th>40398</th>\n",
              "      <td>1.0</td>\n",
              "      <td>1.96</td>\n",
              "      <td>32.76</td>\n",
              "      <td>13.28</td>\n",
              "      <td>9.0</td>\n",
              "      <td>0.28</td>\n",
              "    </tr>\n",
              "    <tr>\n",
              "      <th>40399</th>\n",
              "      <td>1.0</td>\n",
              "      <td>1.98</td>\n",
              "      <td>32.88</td>\n",
              "      <td>13.14</td>\n",
              "      <td>9.0</td>\n",
              "      <td>0.14</td>\n",
              "    </tr>\n",
              "    <tr>\n",
              "      <th>40400</th>\n",
              "      <td>1.0</td>\n",
              "      <td>2.00</td>\n",
              "      <td>33.00</td>\n",
              "      <td>13.00</td>\n",
              "      <td>9.0</td>\n",
              "      <td>-0.00</td>\n",
              "    </tr>\n",
              "  </tbody>\n",
              "</table>\n",
              "<p>40401 rows × 6 columns</p>\n",
              "</div>"
            ],
            "text/plain": [
              "        x1    x2  f1(x1,x2)  f2(x1,x2)  min_x2(f1(x1,x2))  min_x1(f2(x1,x2))\n",
              "0     -1.0 -2.00      -7.00      41.00               -7.0              28.00\n",
              "1     -1.0 -1.98      -6.88      40.86               -7.0              27.86\n",
              "2     -1.0 -1.96      -6.76      40.72               -7.0              27.72\n",
              "3     -1.0 -1.94      -6.64      40.58               -7.0              27.58\n",
              "4     -1.0 -1.92      -6.52      40.44               -7.0              27.44\n",
              "...    ...   ...        ...        ...                ...                ...\n",
              "40396  1.0  1.92      32.52      13.56                9.0               0.56\n",
              "40397  1.0  1.94      32.64      13.42                9.0               0.42\n",
              "40398  1.0  1.96      32.76      13.28                9.0               0.28\n",
              "40399  1.0  1.98      32.88      13.14                9.0               0.14\n",
              "40400  1.0  2.00      33.00      13.00                9.0              -0.00\n",
              "\n",
              "[40401 rows x 6 columns]"
            ]
          },
          "metadata": {},
          "execution_count": 109
        }
      ]
    },
    {
      "cell_type": "markdown",
      "metadata": {
        "id": "FuGX1lE3o9Eq"
      },
      "source": [
        "$f_{12}^* = max_{x_1} min_{x_2}f_{12}(x_1, x_2)$:"
      ]
    },
    {
      "cell_type": "code",
      "metadata": {
        "colab": {
          "base_uri": "https://localhost:8080/"
        },
        "id": "TdAOOdh5oHnd",
        "outputId": "bfad8e37-5cf2-47fd-fb8c-d7b1bf09e4d7"
      },
      "source": [
        "f12_gar = np.round(minf_x2['f1(x1,x2)'].max(), decimals=3)\n",
        "f12_gar"
      ],
      "execution_count": null,
      "outputs": [
        {
          "output_type": "execute_result",
          "data": {
            "text/plain": [
              "9.0"
            ]
          },
          "metadata": {},
          "execution_count": 110
        }
      ]
    },
    {
      "cell_type": "markdown",
      "metadata": {
        "id": "zOlXGXoSqBj1"
      },
      "source": [
        "$f_{21}^* = max_{x_2} min_{x_1}f_{21}(x_1, x_2)$:"
      ]
    },
    {
      "cell_type": "code",
      "metadata": {
        "colab": {
          "base_uri": "https://localhost:8080/"
        },
        "id": "qbovsxokp8X5",
        "outputId": "04ec784e-05e2-4ec9-bd46-47ef2798c12b"
      },
      "source": [
        "f21_gar = np.round(minf_x1['f2(x1,x2)'].max(), decimals=3)\n",
        "f21_gar"
      ],
      "execution_count": null,
      "outputs": [
        {
          "output_type": "execute_result",
          "data": {
            "text/plain": [
              "28.0"
            ]
          },
          "metadata": {},
          "execution_count": 111
        }
      ]
    },
    {
      "cell_type": "markdown",
      "metadata": {
        "id": "9BR_wy65sH2x"
      },
      "source": [
        "Виберемо повністю весь запис для якого значення функції $f_{12}$ є оптимальним ( тобто =  $f_{12}^*$ ):"
      ]
    },
    {
      "cell_type": "code",
      "metadata": {
        "colab": {
          "base_uri": "https://localhost:8080/",
          "height": 81
        },
        "id": "J6k3FSvqquUy",
        "outputId": "92ccb5f5-3305-4f0a-965f-a7cb62a1ca25"
      },
      "source": [
        "optimal_1 = table.loc[abs(table['f1(x1,x2)']-f12_gar)<=0.001]\n",
        "optimal_1 = optimal_1.loc[abs(table['f1(x1,x2)'] - table['min_x2(f1(x1,x2))'])<0.001]\n",
        "optimal_1"
      ],
      "execution_count": null,
      "outputs": [
        {
          "output_type": "execute_result",
          "data": {
            "text/html": [
              "<div>\n",
              "<style scoped>\n",
              "    .dataframe tbody tr th:only-of-type {\n",
              "        vertical-align: middle;\n",
              "    }\n",
              "\n",
              "    .dataframe tbody tr th {\n",
              "        vertical-align: top;\n",
              "    }\n",
              "\n",
              "    .dataframe thead th {\n",
              "        text-align: right;\n",
              "    }\n",
              "</style>\n",
              "<table border=\"1\" class=\"dataframe\">\n",
              "  <thead>\n",
              "    <tr style=\"text-align: right;\">\n",
              "      <th></th>\n",
              "      <th>x1</th>\n",
              "      <th>x2</th>\n",
              "      <th>f1(x1,x2)</th>\n",
              "      <th>f2(x1,x2)</th>\n",
              "      <th>min_x2(f1(x1,x2))</th>\n",
              "      <th>min_x1(f2(x1,x2))</th>\n",
              "    </tr>\n",
              "  </thead>\n",
              "  <tbody>\n",
              "    <tr>\n",
              "      <th>40200</th>\n",
              "      <td>1.0</td>\n",
              "      <td>-2.0</td>\n",
              "      <td>9.0</td>\n",
              "      <td>41.0</td>\n",
              "      <td>9.0</td>\n",
              "      <td>28.0</td>\n",
              "    </tr>\n",
              "  </tbody>\n",
              "</table>\n",
              "</div>"
            ],
            "text/plain": [
              "        x1   x2  f1(x1,x2)  f2(x1,x2)  min_x2(f1(x1,x2))  min_x1(f2(x1,x2))\n",
              "40200  1.0 -2.0        9.0       41.0                9.0               28.0"
            ]
          },
          "metadata": {},
          "execution_count": 112
        }
      ]
    },
    {
      "cell_type": "markdown",
      "metadata": {
        "id": "JNACjn4t-pgo"
      },
      "source": [
        "Бачимо, що $f_{12}^* = f_{12}(1,-2) = 9$"
      ]
    },
    {
      "cell_type": "markdown",
      "metadata": {
        "id": "2FQIyXNUAYc8"
      },
      "source": [
        "Виберемо повністю весь запис для якого значення функції $f_{21}$ є оптимальним ( тобто =  $f_{21}^*$ ):"
      ]
    },
    {
      "cell_type": "code",
      "metadata": {
        "colab": {
          "base_uri": "https://localhost:8080/",
          "height": 81
        },
        "id": "dkbuoyQH5q7t",
        "outputId": "e3a5b479-c553-4e36-f45f-992fd2acb549"
      },
      "source": [
        "optimal_2 = table.loc[abs(table['f2(x1,x2)'] - f21_gar)< 0.001]\n",
        "optimal_2 = optimal_2.loc[abs(table['f2(x1,x2)'] - table['min_x1(f2(x1,x2))'])<0.001]\n",
        "optimal_2 = np.round(optimal_2, decimals=3)\n",
        "optimal_2"
      ],
      "execution_count": null,
      "outputs": [
        {
          "output_type": "execute_result",
          "data": {
            "text/html": [
              "<div>\n",
              "<style scoped>\n",
              "    .dataframe tbody tr th:only-of-type {\n",
              "        vertical-align: middle;\n",
              "    }\n",
              "\n",
              "    .dataframe tbody tr th {\n",
              "        vertical-align: top;\n",
              "    }\n",
              "\n",
              "    .dataframe thead th {\n",
              "        text-align: right;\n",
              "    }\n",
              "</style>\n",
              "<table border=\"1\" class=\"dataframe\">\n",
              "  <thead>\n",
              "    <tr style=\"text-align: right;\">\n",
              "      <th></th>\n",
              "      <th>x1</th>\n",
              "      <th>x2</th>\n",
              "      <th>f1(x1,x2)</th>\n",
              "      <th>f2(x1,x2)</th>\n",
              "      <th>min_x2(f1(x1,x2))</th>\n",
              "      <th>min_x1(f2(x1,x2))</th>\n",
              "    </tr>\n",
              "  </thead>\n",
              "  <tbody>\n",
              "    <tr>\n",
              "      <th>20100</th>\n",
              "      <td>0.0</td>\n",
              "      <td>-2.0</td>\n",
              "      <td>-7.0</td>\n",
              "      <td>28.0</td>\n",
              "      <td>-7.0</td>\n",
              "      <td>28.0</td>\n",
              "    </tr>\n",
              "  </tbody>\n",
              "</table>\n",
              "</div>"
            ],
            "text/plain": [
              "        x1   x2  f1(x1,x2)  f2(x1,x2)  min_x2(f1(x1,x2))  min_x1(f2(x1,x2))\n",
              "20100  0.0 -2.0       -7.0       28.0               -7.0               28.0"
            ]
          },
          "metadata": {},
          "execution_count": 118
        }
      ]
    },
    {
      "cell_type": "markdown",
      "metadata": {
        "id": "YowxXHwm-yIM"
      },
      "source": [
        "Бачимо, що $f_{21}^* = f_{21}(0,-2) = 28$"
      ]
    },
    {
      "cell_type": "markdown",
      "metadata": {
        "id": "48yklr1dLKaJ"
      },
      "source": [
        "### Графічний метод"
      ]
    },
    {
      "cell_type": "code",
      "metadata": {
        "id": "Q5W-MUCELRKU"
      },
      "source": [
        "def get_f_with_fixed_x1(x1, f):\n",
        "  return lambda x2: f(x1, x2)\n",
        "def get_f_with_fixed_x2(x2, f):\n",
        "  return lambda x1: f(x1, x2)"
      ],
      "execution_count": null,
      "outputs": []
    },
    {
      "cell_type": "markdown",
      "metadata": {
        "id": "rxDa5xeO8Sn9"
      },
      "source": [
        "Для вирішення графічним методом беремо для $f_{12}(x_1, x_2)$ фіксовані $x_1$ та розглядаємо графіки для різних $x_1$. Обираємо такий $x_2$ для якого значення конкретного графіку найнижче(мінімізуємо по $x_2$), а $x_1$ вибираэмо такий, для якого графік побудовано найвище. Отримуємо значення $f_{12}^* = f_{12}(1,-2) = 9$"
      ]
    },
    {
      "cell_type": "code",
      "metadata": {
        "colab": {
          "base_uri": "https://localhost:8080/",
          "height": 295
        },
        "id": "G2xDGprAPfyL",
        "outputId": "e56aae34-4073-4064-c757-e956b753d710"
      },
      "source": [
        "plt.title(\"Графік f12(x1, x2) по x2\")\n",
        "plt.xlabel(\"x2\")\n",
        "plt.ylabel(\"f12(x1, x2)\")\n",
        "\n",
        "for x_1 in np.arange(x1_min, x1_max+0.0001, 0.5):\n",
        "  plt.plot(x2, [get_f_with_fixed_x1(x_1, f1)(x_2) for x_2 in x2],label = 'f12('+str(x_1)+', x2)')\n",
        "plt.legend(loc = 1)\n",
        "plt.show()"
      ],
      "execution_count": null,
      "outputs": [
        {
          "output_type": "display_data",
          "data": {
            "image/png": "[encoded data removed]",
            "text/plain": [
              "<Figure size 432x288 with 1 Axes>"
            ]
          },
          "metadata": {
            "needs_background": "light"
          }
        }
      ]
    },
    {
      "cell_type": "markdown",
      "metadata": {
        "id": "lbc8JbIp9sut"
      },
      "source": [
        "Аналогічно фіксуючи $x_2$ в функції $f_{21}(x_1,x_2)$ та відповідними судженнями отримуємо $f_{21}^* = f_{21}(0,-2) = 28$"
      ]
    },
    {
      "cell_type": "code",
      "metadata": {
        "colab": {
          "base_uri": "https://localhost:8080/",
          "height": 295
        },
        "id": "iI_M_DF4PiDb",
        "outputId": "0483ade1-0f20-4f61-e058-22049cea2440"
      },
      "source": [
        "plt.title(\"Графік f21(x1, x2) по x1\")\n",
        "plt.xlabel(\"x1\")\n",
        "plt.ylabel(\"f12(x1, x2)\")\n",
        "\n",
        "for x_2 in np.arange(x2_min, x2_max+0.0001, 0.5):\n",
        "  plt.plot(x1, [get_f_with_fixed_x2(x_2, f2)(x_1) for x_1 in x1],label = 'f21(x1, '+str(x_2)+')')\n",
        "plt.legend(loc = 1)\n",
        "plt.show()"
      ],
      "execution_count": null,
      "outputs": [
        {
          "output_type": "display_data",
          "data": {
            "image/png": "[encoded data removed]",
            "text/plain": [
              "<Figure size 432x288 with 1 Axes>"
            ]
          },
          "metadata": {
            "needs_background": "light"
          }
        }
      ]
    },
    {
      "cell_type": "markdown",
      "metadata": {
        "id": "pambPEZPx7fs"
      },
      "source": [
        "### Класичний метод: "
      ]
    },
    {
      "cell_type": "markdown",
      "metadata": {
        "id": "vTFBkj82x_yA"
      },
      "source": [
        "$f_{12}(x_1, x_2) = 8x_1^2 + 8x_1+6x_2 + 5$  \n",
        "$f_{21}(x_1, x_2) = 13x_1^2 -7x_2 + 14$\n",
        "\n",
        "---\n",
        "\n",
        "$\\frac{\\partial f_{12}(x_1, x_2)}{\\partial x_2} = 6 \\Rightarrow$   \n",
        "точка мінімуму досягається на граничних точках $x_2$, тобто необхідно перевірити $x2 = -2, x2 = 2$:  \n",
        "$f_{12}(x_1, -2) = 8x_1^2 + 8x_1 -7$  \n",
        "$f_{12}(x_1, 2) = 8x_1^2 + 8x_1 +17$  \n",
        "Бачимо , що фунцкія  досягне  мінімуму в $x_2 = -2$  \n",
        "З іншої сторони бачимо, що $8x_1^2+8x_1$ - опукла вниз парабола, отже її максимум буде лежати також на граничних значеннях $x_1$.  Нескладно зрозуміти, що при $x_2 = -2$ функція досягає максимуму в точці $x_1 = 1$.  \n",
        "Отже, $f_{12}^* = max_{x_1}min_{x_2}f_{12}(x_1,x_2) = f_{12}(1, -2) = 9$  \n",
        "\n",
        "---\n",
        "\n",
        "Тепер розглянемо $f_{12}(x_1,x_2): $  \n",
        "\n",
        "$\\frac{\\partial f_{21}(x_1, x_2)}{\\partial x_1} = 26x_1 = 0   \\Rightarrow  x_1 = 0$   \n",
        "Тобто мінімум функції досягається в точці $x_1 = 0$.  \n",
        "$f_{21}(0, x_2) = -7x_2 + 14$. Це спадна функція, а отже досягає найбільшого значення в лівій границі. Тобто $x_2 = -2$.  \n",
        "Маємо $f_{21}^* = max_{x_2}min_{x_1}f_{21}(x_1,x_2) = f_{21}(0, -2) = 28$ "
      ]
    },
    {
      "cell_type": "markdown",
      "metadata": {
        "id": "FfNlOAtr71Op"
      },
      "source": [
        "### Висновки"
      ]
    },
    {
      "cell_type": "markdown",
      "metadata": {
        "id": "ZCTo3p-v739U"
      },
      "source": [
        "Бачимо, що у всіх 3 методах значення зійшлися, що й очікувалось."
      ]
    },
    {
      "cell_type": "markdown",
      "metadata": {
        "id": "Ifgcse-GZNyW"
      },
      "source": [
        "## Знаходження області Парето"
      ]
    },
    {
      "cell_type": "code",
      "metadata": {
        "id": "I8rPsPAmZWwu"
      },
      "source": [
        "u1 = lambda x1: -(8*x1**2+8*x1-4)/6\n",
        "u2 = lambda x1: (13/7)*x1**2 -2"
      ],
      "execution_count": null,
      "outputs": []
    },
    {
      "cell_type": "markdown",
      "metadata": {
        "id": "YUdceUKIcEmo"
      },
      "source": [
        "Множину парето знаходимо з нерівностей $f_{12}(x_1,x_2)>=f_{12}^*$ та $f_{21}(x_2,x_1)>=f_{21}^*$: \n",
        "\n",
        "\n"
      ]
    },
    {
      "cell_type": "markdown",
      "metadata": {
        "id": "_dzklaKGc489"
      },
      "source": [
        "Для першого суб'єкта з умови $8x_1^2 + 8x_1 + 6x_2 + 5 >=9$  та другого суб'єкта  з умови $13x_1^2 - 7x_2 + 14 >=28$ маємо:"
      ]
    },
    {
      "cell_type": "code",
      "metadata": {
        "colab": {
          "base_uri": "https://localhost:8080/",
          "height": 279
        },
        "id": "y2HgX2AWctE3",
        "outputId": "7d3b0b5b-990f-4531-faca-23e1fe6af5c7"
      },
      "source": [
        "plt.xlabel(\"x1\")\n",
        "plt.ylabel(\"x2\")\n",
        "U1 = np.array([u1(x_1) for x_1 in x1])\n",
        "U2 = np.array([u2(x_1) for x_1 in x1])\n",
        "plt.plot(x1, U1, color='green')\n",
        "plt.plot(x1, U2, color='blue')\n",
        "plt.fill_between(x1, U1, [x2_max]*x1.size, color = 'green', label = 'f12')\n",
        "plt.fill_between(x1, U2, [x2_min] * x1.size, color= 'blue', label = 'f21')\n",
        "plt.fill_between(x1, U1, U2, color= 'red', where=U2>=U1, interpolate=True, label = 'Область Парето')\n",
        "plt.legend()\n",
        "plt.show()"
      ],
      "execution_count": null,
      "outputs": [
        {
          "output_type": "display_data",
          "data": {
            "image/png": "[encoded data removed]",
            "text/plain": [
              "<Figure size 432x288 with 1 Axes>"
            ]
          },
          "metadata": {
            "needs_background": "light"
          }
        }
      ]
    },
    {
      "cell_type": "markdown",
      "metadata": {
        "id": "joeRkhWKq3UV"
      },
      "source": [
        "## Знаходження мінімального $\\Delta $"
      ]
    },
    {
      "cell_type": "code",
      "metadata": {
        "colab": {
          "base_uri": "https://localhost:8080/",
          "height": 424
        },
        "id": "hKrvsSuWkGoQ",
        "outputId": "5b9a851b-b89d-4ad6-e379-2aba2843f39f"
      },
      "source": [
        "delta_table = pd.DataFrame({'x1': x.T[0], 'x2': x.T[1], \n",
        "                            '|f12-f12*|': np.array([abs(f1(x1,x2) - f12_gar) for x1,x2 in x]),\n",
        "                            '|f21-f21*|': np.array([abs(f2(x1,x2)-f21_gar) for x1,x2 in x]) \n",
        "                            })\n",
        "delta_table['max(delta)'] = np.maximum(delta_table['|f12-f12*|'], delta_table['|f21-f21*|'])\n",
        "delta_table"
      ],
      "execution_count": null,
      "outputs": [
        {
          "output_type": "execute_result",
          "data": {
            "text/html": [
              "<div>\n",
              "<style scoped>\n",
              "    .dataframe tbody tr th:only-of-type {\n",
              "        vertical-align: middle;\n",
              "    }\n",
              "\n",
              "    .dataframe tbody tr th {\n",
              "        vertical-align: top;\n",
              "    }\n",
              "\n",
              "    .dataframe thead th {\n",
              "        text-align: right;\n",
              "    }\n",
              "</style>\n",
              "<table border=\"1\" class=\"dataframe\">\n",
              "  <thead>\n",
              "    <tr style=\"text-align: right;\">\n",
              "      <th></th>\n",
              "      <th>x1</th>\n",
              "      <th>x2</th>\n",
              "      <th>|f12-f12*|</th>\n",
              "      <th>|f21-f21*|</th>\n",
              "      <th>max(delta)</th>\n",
              "    </tr>\n",
              "  </thead>\n",
              "  <tbody>\n",
              "    <tr>\n",
              "      <th>0</th>\n",
              "      <td>-1.0</td>\n",
              "      <td>-2.00</td>\n",
              "      <td>16.00</td>\n",
              "      <td>13.00</td>\n",
              "      <td>16.00</td>\n",
              "    </tr>\n",
              "    <tr>\n",
              "      <th>1</th>\n",
              "      <td>-1.0</td>\n",
              "      <td>-1.98</td>\n",
              "      <td>15.88</td>\n",
              "      <td>12.86</td>\n",
              "      <td>15.88</td>\n",
              "    </tr>\n",
              "    <tr>\n",
              "      <th>2</th>\n",
              "      <td>-1.0</td>\n",
              "      <td>-1.96</td>\n",
              "      <td>15.76</td>\n",
              "      <td>12.72</td>\n",
              "      <td>15.76</td>\n",
              "    </tr>\n",
              "    <tr>\n",
              "      <th>3</th>\n",
              "      <td>-1.0</td>\n",
              "      <td>-1.94</td>\n",
              "      <td>15.64</td>\n",
              "      <td>12.58</td>\n",
              "      <td>15.64</td>\n",
              "    </tr>\n",
              "    <tr>\n",
              "      <th>4</th>\n",
              "      <td>-1.0</td>\n",
              "      <td>-1.92</td>\n",
              "      <td>15.52</td>\n",
              "      <td>12.44</td>\n",
              "      <td>15.52</td>\n",
              "    </tr>\n",
              "    <tr>\n",
              "      <th>...</th>\n",
              "      <td>...</td>\n",
              "      <td>...</td>\n",
              "      <td>...</td>\n",
              "      <td>...</td>\n",
              "      <td>...</td>\n",
              "    </tr>\n",
              "    <tr>\n",
              "      <th>40396</th>\n",
              "      <td>1.0</td>\n",
              "      <td>1.92</td>\n",
              "      <td>23.52</td>\n",
              "      <td>14.44</td>\n",
              "      <td>23.52</td>\n",
              "    </tr>\n",
              "    <tr>\n",
              "      <th>40397</th>\n",
              "      <td>1.0</td>\n",
              "      <td>1.94</td>\n",
              "      <td>23.64</td>\n",
              "      <td>14.58</td>\n",
              "      <td>23.64</td>\n",
              "    </tr>\n",
              "    <tr>\n",
              "      <th>40398</th>\n",
              "      <td>1.0</td>\n",
              "      <td>1.96</td>\n",
              "      <td>23.76</td>\n",
              "      <td>14.72</td>\n",
              "      <td>23.76</td>\n",
              "    </tr>\n",
              "    <tr>\n",
              "      <th>40399</th>\n",
              "      <td>1.0</td>\n",
              "      <td>1.98</td>\n",
              "      <td>23.88</td>\n",
              "      <td>14.86</td>\n",
              "      <td>23.88</td>\n",
              "    </tr>\n",
              "    <tr>\n",
              "      <th>40400</th>\n",
              "      <td>1.0</td>\n",
              "      <td>2.00</td>\n",
              "      <td>24.00</td>\n",
              "      <td>15.00</td>\n",
              "      <td>24.00</td>\n",
              "    </tr>\n",
              "  </tbody>\n",
              "</table>\n",
              "<p>40401 rows × 5 columns</p>\n",
              "</div>"
            ],
            "text/plain": [
              "        x1    x2  |f12-f12*|  |f21-f21*|  max(delta)\n",
              "0     -1.0 -2.00       16.00       13.00       16.00\n",
              "1     -1.0 -1.98       15.88       12.86       15.88\n",
              "2     -1.0 -1.96       15.76       12.72       15.76\n",
              "3     -1.0 -1.94       15.64       12.58       15.64\n",
              "4     -1.0 -1.92       15.52       12.44       15.52\n",
              "...    ...   ...         ...         ...         ...\n",
              "40396  1.0  1.92       23.52       14.44       23.52\n",
              "40397  1.0  1.94       23.64       14.58       23.64\n",
              "40398  1.0  1.96       23.76       14.72       23.76\n",
              "40399  1.0  1.98       23.88       14.86       23.88\n",
              "40400  1.0  2.00       24.00       15.00       24.00\n",
              "\n",
              "[40401 rows x 5 columns]"
            ]
          },
          "metadata": {},
          "execution_count": 150
        }
      ]
    },
    {
      "cell_type": "markdown",
      "metadata": {
        "id": "37JlxBZguQiJ"
      },
      "source": [
        "Знайдемо запис, де значення $max(delta)$ - мінімальне:"
      ]
    },
    {
      "cell_type": "code",
      "metadata": {
        "colab": {
          "base_uri": "https://localhost:8080/",
          "height": 81
        },
        "id": "SQNT6cHSudth",
        "outputId": "d96eae4c-2f96-4948-e59f-d33285dae1f2"
      },
      "source": [
        "delta_table.loc[delta_table['max(delta)'] == delta_table['max(delta)'].min()]"
      ],
      "execution_count": null,
      "outputs": [
        {
          "output_type": "execute_result",
          "data": {
            "text/html": [
              "<div>\n",
              "<style scoped>\n",
              "    .dataframe tbody tr th:only-of-type {\n",
              "        vertical-align: middle;\n",
              "    }\n",
              "\n",
              "    .dataframe tbody tr th {\n",
              "        vertical-align: top;\n",
              "    }\n",
              "\n",
              "    .dataframe thead th {\n",
              "        text-align: right;\n",
              "    }\n",
              "</style>\n",
              "<table border=\"1\" class=\"dataframe\">\n",
              "  <thead>\n",
              "    <tr style=\"text-align: right;\">\n",
              "      <th></th>\n",
              "      <th>x1</th>\n",
              "      <th>x2</th>\n",
              "      <th>|f12-f12*|</th>\n",
              "      <th>|f21-f21*|</th>\n",
              "      <th>max(delta)</th>\n",
              "    </tr>\n",
              "  </thead>\n",
              "  <tbody>\n",
              "    <tr>\n",
              "      <th>34822</th>\n",
              "      <td>0.73</td>\n",
              "      <td>-1.02</td>\n",
              "      <td>0.0168</td>\n",
              "      <td>0.0677</td>\n",
              "      <td>0.0677</td>\n",
              "    </tr>\n",
              "  </tbody>\n",
              "</table>\n",
              "</div>"
            ],
            "text/plain": [
              "         x1    x2  |f12-f12*|  |f21-f21*|  max(delta)\n",
              "34822  0.73 -1.02      0.0168      0.0677      0.0677"
            ]
          },
          "metadata": {},
          "execution_count": 153
        }
      ]
    },
    {
      "cell_type": "markdown",
      "metadata": {
        "id": "4hLwc3ApvZ0O"
      },
      "source": [
        "Отже, отримали, що $\\Delta = min_{x_1, x_2} max_i \\Delta_i = 0.0677$  \n",
        "Оптимальне значення $(x_1^*, x_2^*) = (0.73 ; -1.02 )$  \n",
        "Зобразимо на вищевказаному графіку точку:\n"
      ]
    },
    {
      "cell_type": "code",
      "metadata": {
        "colab": {
          "base_uri": "https://localhost:8080/",
          "height": 279
        },
        "id": "ktrD_mY-vCSm",
        "outputId": "f3fd52f1-29af-4878-f85a-7c991469854e"
      },
      "source": [
        "plt.xlabel(\"x1\")\n",
        "plt.ylabel(\"x2\")\n",
        "U1 = np.array([u1(x_1) for x_1 in x1])\n",
        "U2 = np.array([u2(x_1) for x_1 in x1])\n",
        "plt.plot(x1, U1, color='green')\n",
        "plt.plot(x1, U2, color='blue')\n",
        "plt.fill_between(x1, U1, [x2_max]*x1.size, color = 'green', label = 'f12')\n",
        "plt.fill_between(x1, U2, [x2_min] * x1.size, color= 'blue', label = 'f21')\n",
        "plt.fill_between(x1, U1, U2, color= 'gray', where=U2>=U1, interpolate=True, label = 'Область Парето')\n",
        "plt.plot(0.73, -1.02, 'ro', label = 'Оптимальне значення')\n",
        "plt.legend()\n",
        "plt.show()"
      ],
      "execution_count": null,
      "outputs": [
        {
          "output_type": "display_data",
          "data": {
            "image/png": "[encoded data removed]",
            "text/plain": [
              "<Figure size 432x288 with 1 Axes>"
            ]
          },
          "metadata": {
            "needs_background": "light"
          }
        }
      ]
    }
  ]
}